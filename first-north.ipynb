{
 "cells": [
  {
   "cell_type": "code",
   "execution_count": 1,
   "metadata": {},
   "outputs": [],
   "source": [
    "import bs4 as bs\n",
    "import datetime as dt\n",
    "import pandas as pd\n",
    "import pandas_datareader.data as web\n",
    "import os\n",
    "import pickle\n",
    "import requests"
   ]
  },
  {
   "cell_type": "markdown",
   "metadata": {},
   "source": [
    "A function to scrape all first north company tickers from www.nasdaqomxnordic.com."
   ]
  },
  {
   "cell_type": "code",
   "execution_count": 2,
   "metadata": {},
   "outputs": [],
   "source": [
    "def save_first_north_tickers():\n",
    "    resp = requests.get('http://www.nasdaqomxnordic.com/shares/listed-companies/first-north')\n",
    "    soup = bs.BeautifulSoup(resp.text)\n",
    "    table = soup.find('article', {'class':'nordic-our-listed-companies'})\n",
    "    tickers = []\n",
    "    for row in table.findAll('tr')[1:]:\n",
    "        ticker = row.findAll('td')[1].text\n",
    "        ticker = ticker.replace(' ', '-')\n",
    "        ticker = ticker+'.ST'\n",
    "        \n",
    "        tickers.append(ticker)\n",
    "        \n",
    "    with open('first-north-tickers.pickle', 'wb') as f:\n",
    "        pickle.dump(tickers, f)\n",
    "        \n",
    "    return tickers"
   ]
  },
  {
   "cell_type": "markdown",
   "metadata": {},
   "source": [
    "A function that downloads the history data from yhaoo using the scraped tickers."
   ]
  },
  {
   "cell_type": "code",
   "execution_count": 3,
   "metadata": {},
   "outputs": [],
   "source": [
    "def get_data_from_yahoo(reload_data=False):\n",
    "    if reload_data:\n",
    "        tickers = save_first_north_tickers()\n",
    "    else:\n",
    "        with open('first-north-tickers.pickle', 'rb') as f:\n",
    "            tickers = pickle.load(f)\n",
    "    \n",
    "    if not os.path.exists('first-north-dfs'):\n",
    "        os.makedirs('first-north-dfs')\n",
    "        \n",
    "    for ticker in tickers:\n",
    "        print(ticker)\n",
    "        try:\n",
    "            df = web.DataReader(ticker, 'yahoo')\n",
    "            file_name = 'first-north-dfs/{}.csv'.format(ticker)\n",
    "            if not os.path.exists(file_name):\n",
    "                df.to_csv(file_name)\n",
    "            else:\n",
    "                print('Already have {}'.format(ticker))\n",
    "        except:\n",
    "            print('{} does not exist'.format(ticker))"
   ]
  },
  {
   "cell_type": "code",
   "execution_count": 4,
   "metadata": {},
   "outputs": [],
   "source": [
    "#get_data_from_yahoo()"
   ]
  },
  {
   "cell_type": "markdown",
   "metadata": {},
   "source": [
    "Visualizing the data for the company Iconovo."
   ]
  },
  {
   "cell_type": "code",
   "execution_count": 5,
   "metadata": {},
   "outputs": [],
   "source": [
    "import matplotlib.pyplot as plt\n",
    "import mplfinance as mpf\n",
    "from mpl_finance import candlestick_ohlc\n",
    "import matplotlib.dates as mdates"
   ]
  },
  {
   "cell_type": "code",
   "execution_count": 6,
   "metadata": {},
   "outputs": [
    {
     "data": {
      "text/html": [
       "<div>\n",
       "<style scoped>\n",
       "    .dataframe tbody tr th:only-of-type {\n",
       "        vertical-align: middle;\n",
       "    }\n",
       "\n",
       "    .dataframe tbody tr th {\n",
       "        vertical-align: top;\n",
       "    }\n",
       "\n",
       "    .dataframe thead th {\n",
       "        text-align: right;\n",
       "    }\n",
       "</style>\n",
       "<table border=\"1\" class=\"dataframe\">\n",
       "  <thead>\n",
       "    <tr style=\"text-align: right;\">\n",
       "      <th></th>\n",
       "      <th>High</th>\n",
       "      <th>Low</th>\n",
       "      <th>Open</th>\n",
       "      <th>Close</th>\n",
       "      <th>Volume</th>\n",
       "      <th>Adj Close</th>\n",
       "    </tr>\n",
       "    <tr>\n",
       "      <th>Date</th>\n",
       "      <th></th>\n",
       "      <th></th>\n",
       "      <th></th>\n",
       "      <th></th>\n",
       "      <th></th>\n",
       "      <th></th>\n",
       "    </tr>\n",
       "  </thead>\n",
       "  <tbody>\n",
       "    <tr>\n",
       "      <td>2018-04-06</td>\n",
       "      <td>43.000000</td>\n",
       "      <td>34.500000</td>\n",
       "      <td>38.400002</td>\n",
       "      <td>36.000000</td>\n",
       "      <td>33693</td>\n",
       "      <td>36.000000</td>\n",
       "    </tr>\n",
       "    <tr>\n",
       "      <td>2018-04-09</td>\n",
       "      <td>37.000000</td>\n",
       "      <td>33.200001</td>\n",
       "      <td>37.000000</td>\n",
       "      <td>34.799999</td>\n",
       "      <td>14726</td>\n",
       "      <td>34.799999</td>\n",
       "    </tr>\n",
       "    <tr>\n",
       "      <td>2018-04-10</td>\n",
       "      <td>34.799999</td>\n",
       "      <td>29.500000</td>\n",
       "      <td>34.799999</td>\n",
       "      <td>34.500000</td>\n",
       "      <td>67172</td>\n",
       "      <td>34.500000</td>\n",
       "    </tr>\n",
       "    <tr>\n",
       "      <td>2018-04-11</td>\n",
       "      <td>34.500000</td>\n",
       "      <td>29.600000</td>\n",
       "      <td>34.500000</td>\n",
       "      <td>33.200001</td>\n",
       "      <td>57515</td>\n",
       "      <td>33.200001</td>\n",
       "    </tr>\n",
       "    <tr>\n",
       "      <td>2018-04-12</td>\n",
       "      <td>33.400002</td>\n",
       "      <td>30.000000</td>\n",
       "      <td>32.000000</td>\n",
       "      <td>33.400002</td>\n",
       "      <td>6514</td>\n",
       "      <td>33.400002</td>\n",
       "    </tr>\n",
       "  </tbody>\n",
       "</table>\n",
       "</div>"
      ],
      "text/plain": [
       "                 High        Low       Open      Close  Volume  Adj Close\n",
       "Date                                                                     \n",
       "2018-04-06  43.000000  34.500000  38.400002  36.000000   33693  36.000000\n",
       "2018-04-09  37.000000  33.200001  37.000000  34.799999   14726  34.799999\n",
       "2018-04-10  34.799999  29.500000  34.799999  34.500000   67172  34.500000\n",
       "2018-04-11  34.500000  29.600000  34.500000  33.200001   57515  33.200001\n",
       "2018-04-12  33.400002  30.000000  32.000000  33.400002    6514  33.400002"
      ]
     },
     "execution_count": 6,
     "metadata": {},
     "output_type": "execute_result"
    }
   ],
   "source": [
    "ico = pd.read_csv('first-north-dfs/ICO.ST.csv', index_col=0, parse_dates=True)\n",
    "ico.head()"
   ]
  },
  {
   "cell_type": "code",
   "execution_count": 7,
   "metadata": {},
   "outputs": [
    {
     "data": {
      "image/png": "[encoded data removed]",
      "text/plain": [
       "<Figure size 720x576 with 2 Axes>"
      ]
     },
     "metadata": {
      "needs_background": "light"
     },
     "output_type": "display_data"
    }
   ],
   "source": [
    "plt.figure(figsize=(10,8))\n",
    "ax1 = plt.subplot2grid((5,1), (0,0), rowspan=4, colspan=1)\n",
    "ax1.xaxis_date()\n",
    "ax2 = plt.subplot2grid((5,1), (4,0), rowspan=1, colspan=1, sharex=ax1)\n",
    "\n",
    "ico_ohlc = ico.drop(['Volume', 'Adj Close'], axis=1)\n",
    "ico_ohlc.reset_index(inplace=True)\n",
    "ico_ohlc['Date'] = ico_ohlc['Date'].map(mdates.date2num)\n",
    "\n",
    "ico_volume = ico[['Volume']]\n",
    "\n",
    "candlestick_ohlc(ax1, ico_ohlc.values, width=2, colorup='g')\n",
    "ax1.set_title('Iconovo')\n",
    "ax2.fill_between(ico_volume.index.map(mdates.date2num), ico_volume.values.flatten());"
   ]
  },
  {
   "cell_type": "code",
   "execution_count": null,
   "metadata": {},
   "outputs": [],
   "source": []
  }
 ],
 "metadata": {
  "kernelspec": {
   "display_name": "Python 3",
   "language": "python",
   "name": "python3"
  },
  "language_info": {
   "codemirror_mode": {
    "name": "ipython",
    "version": 3
   },
   "file_extension": ".py",
   "mimetype": "text/x-python",
   "name": "python",
   "nbconvert_exporter": "python",
   "pygments_lexer": "ipython3",
   "version": "3.7.4"
  }
 },
 "nbformat": 4,
 "nbformat_minor": 2
}
